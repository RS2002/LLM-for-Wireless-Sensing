{
 "cells": [
  {
   "cell_type": "markdown",
   "id": "aba632e7",
   "metadata": {},
   "source": [
    "# Import package and set API Key"
   ]
  },
  {
   "cell_type": "code",
   "execution_count": 123,
   "id": "a9e73bb8",
   "metadata": {
    "is_executing": true
   },
   "outputs": [
    {
     "data": {
      "text/plain": [
       "'sk-c38104258eae4578b8cdbd27c32d5ba9'"
      ]
     },
     "execution_count": 123,
     "metadata": {},
     "output_type": "execute_result"
    }
   ],
   "source": [
    "import dashscope\n",
    "from apisafe import get_api\n",
    "import numpy as np\n",
    "from http import HTTPStatus\n",
    "api=''\n",
    "# Set API of Aliyun\n",
    "dashscope.api_key = api\n",
    "dashscope.api_key\n"
   ]
  },
  {
   "cell_type": "markdown",
   "id": "e9101b5b",
   "metadata": {},
   "source": [
    "# Data preprocessing"
   ]
  },
  {
   "cell_type": "code",
   "execution_count": 124,
   "id": "65a51cd8",
   "metadata": {
    "scrolled": true
   },
   "outputs": [],
   "source": [
    "token_path = './data/csi_token.npy'\n",
    "label_path = './data/people.npy'\n",
    "\n",
    "tokens = np.load(token_path)\n",
    "labels = np.load(label_path)\n"
   ]
  },
  {
   "cell_type": "code",
   "execution_count": 125,
   "id": "6538ebeb",
   "metadata": {},
   "outputs": [
    {
     "name": "stdout",
     "output_type": "stream",
     "text": [
      "(2918, 30, 52)\n",
      "(2918,)\n"
     ]
    }
   ],
   "source": [
    "print(tokens.shape)\n",
    "print(labels.shape)"
   ]
  },
  {
   "cell_type": "markdown",
   "id": "6df98954",
   "metadata": {},
   "source": [
    "# Llama2 model with Aliyun"
   ]
  },
  {
   "cell_type": "code",
   "execution_count": 126,
   "id": "dc0dd9df",
   "metadata": {},
   "outputs": [],
   "source": [
    "# Parameter Setting\n",
    "model = 'llama2-7b-chat-v2'"
   ]
  },
  {
   "cell_type": "code",
   "execution_count": 127,
   "id": "60e89901",
   "metadata": {
    "scrolled": true
   },
   "outputs": [
    {
     "data": {
      "text/plain": [
       "[{'role': 'system',\n",
       "  'content': 'You are a classifier. I have a series of tokens which belongs to four types. You will be given the token and corresponding labels one by one.'},\n",
       " {'role': 'user',\n",
       "  'content': 'This is the token:[[23 21 20 ... 25 30 30]\\n [14 21 21 ... 28 32 32]\\n [14 19 19 ... 24 26 26]\\n ...\\n [12 18 19 ... 24 28 29]\\n [16 16 16 ... 24 26 26]\\n [-1 -1 -1 ... -1 -1 -1]]. And this is its label:0'}]"
      ]
     },
     "execution_count": 127,
     "metadata": {},
     "output_type": "execute_result"
    }
   ],
   "source": [
    "# Set Initial prompt\n",
    "prompt_one = 'You are a classifier. I have a series of tokens which belongs to four types. You will be given the token and corresponding labels one by one.'\n",
    "messages = [{'role': 'system', 'content': prompt_one}]\n",
    "type(messages)\n",
    "# Iter add \n",
    "for index in range(1):\n",
    "    #print(labels[index])\n",
    "    messages.append({'role': 'user', 'content': 'This is the token:'+ str(tokens[index,:,:])+ '. And this is its label:'+ str(labels[index]) })\n",
    "messages\n",
    "#print(type(messages))"
   ]
  },
  {
   "cell_type": "code",
   "execution_count": 128,
   "id": "512acf79",
   "metadata": {},
   "outputs": [
    {
     "name": "stdout",
     "output_type": "stream",
     "text": [
      "{\"status_code\": 200, \"request_id\": \"785d1eb7-3bbb-97db-b098-b4bddcce1654\", \"code\": \"\", \"message\": \"\", \"output\": {\"text\": null, \"finish_reason\": null, \"choices\": [{\"finish_reason\": \"stop\", \"message\": {\"role\": \"assistant\", \"content\": \" Great! I'm ready to classify the token. Can you please provide me with the next token and its corresponding label?\", \"content_type\": \"text\"}}]}, \"usage\": {\"input_tokens\": 165, \"output_tokens\": 28}}\n"
     ]
    }
   ],
   "source": [
    "# Call API and get response\n",
    "response = dashscope.Generation.call(\n",
    "    model = model,\n",
    "    messages = messages,\n",
    "    result_format = 'message',  # set the result to be \"message\" format.\n",
    ")\n",
    "\n",
    "if response.status_code == HTTPStatus.OK:\n",
    "    print(response)\n",
    "else:\n",
    "    print('Request id: %s, Status code: %s, error code: %s, error message: %s' % (\n",
    "        response.request_id, response.status_code,\n",
    "        response.code, response.message\n",
    "    ))"
   ]
  },
  {
   "cell_type": "code",
   "execution_count": null,
   "id": "96037337",
   "metadata": {},
   "outputs": [],
   "source": []
  }
 ],
 "metadata": {
  "kernelspec": {
   "display_name": "Python 3 (ipykernel)",
   "language": "python",
   "name": "python3"
  },
  "language_info": {
   "codemirror_mode": {
    "name": "ipython",
    "version": 3
   },
   "file_extension": ".py",
   "mimetype": "text/x-python",
   "name": "python",
   "nbconvert_exporter": "python",
   "pygments_lexer": "ipython3",
   "version": "3.11.5"
  }
 },
 "nbformat": 4,
 "nbformat_minor": 5
}
