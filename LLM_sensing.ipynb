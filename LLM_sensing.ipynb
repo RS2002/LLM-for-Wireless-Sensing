{
 "cells": [
  {
   "cell_type": "markdown",
   "id": "aba632e7",
   "metadata": {},
   "source": [
    "# Import package and set API Key"
   ]
  },
  {
   "cell_type": "code",
   "execution_count": null,
   "id": "a9e73bb8",
   "metadata": {
    "is_executing": true,
    "scrolled": true
   },
   "outputs": [],
   "source": [
    "import dashscope\n",
    "from apisafe import get_api\n",
    "import numpy as np\n",
    "from http import HTTPStatus\n",
    "api=''\n",
    "# Set API of Aliyun\n",
    "dashscope.api_key = api\n",
    "\n"
   ]
  },
  {
   "cell_type": "markdown",
   "id": "e9101b5b",
   "metadata": {},
   "source": [
    "# Data preprocessing"
   ]
  },
  {
   "cell_type": "code",
   "execution_count": null,
   "id": "65a51cd8",
   "metadata": {
    "scrolled": true
   },
   "outputs": [],
   "source": [
    "token_path = './data/csi_token.npy'\n",
    "label_path = './data/people.npy'\n",
    "\n",
    "tokens = np.load(token_path)\n",
    "labels = np.load(label_path)\n"
   ]
  },
  {
   "cell_type": "code",
   "execution_count": null,
   "id": "6538ebeb",
   "metadata": {},
   "outputs": [],
   "source": [
    "print(tokens.shape)\n",
    "print(labels.shape)"
   ]
  },
  {
   "cell_type": "markdown",
   "id": "6df98954",
   "metadata": {},
   "source": [
    "# Llama2 model with Aliyun"
   ]
  },
  {
   "cell_type": "code",
   "execution_count": null,
   "id": "dc0dd9df",
   "metadata": {},
   "outputs": [],
   "source": [
    "# Parameter Setting\n",
    "model = 'llama2-7b-chat-v2'"
   ]
  },
  {
   "cell_type": "code",
   "execution_count": null,
   "id": "60e89901",
   "metadata": {
    "scrolled": true
   },
   "outputs": [],
   "source": [
    "# Set Initial prompt\n",
    "prompt_one = 'You are a classifier. I have a series of tokens which belongs to four types. You will be given the token and corresponding labels one by one.'\n",
    "messages = [{'role': 'system', 'content': prompt_one}]\n",
    "type(messages)\n",
    "# Iter add \n",
    "for index in range(1):\n",
    "    #print(labels[index])\n",
    "    messages.append({'role': 'user', 'content': 'This is the token:'+ str(tokens[index,:,:])+ '. And this is its label:'+ str(labels[index]) })\n",
    "messages\n",
    "#print(type(messages))"
   ]
  },
  {
   "cell_type": "code",
   "execution_count": null,
   "id": "512acf79",
   "metadata": {},
   "outputs": [],
   "source": [
    "# Call API and get response\n",
    "response = dashscope.Generation.call(\n",
    "    model = model,\n",
    "    messages = messages,\n",
    "    result_format = 'message',  # set the result to be \"message\" format.\n",
    ")\n",
    "\n",
    "if response.status_code == HTTPStatus.OK:\n",
    "    print(response)\n",
    "else:\n",
    "    print('Request id: %s, Status code: %s, error code: %s, error message: %s' % (\n",
    "        response.request_id, response.status_code,\n",
    "        response.code, response.message\n",
    "    ))"
   ]
  },
  {
   "cell_type": "code",
   "execution_count": null,
   "id": "96037337",
   "metadata": {},
   "outputs": [],
   "source": []
  }
 ],
 "metadata": {
  "kernelspec": {
   "display_name": "Python 3 (ipykernel)",
   "language": "python",
   "name": "python3"
  },
  "language_info": {
   "codemirror_mode": {
    "name": "ipython",
    "version": 3
   },
   "file_extension": ".py",
   "mimetype": "text/x-python",
   "name": "python",
   "nbconvert_exporter": "python",
   "pygments_lexer": "ipython3",
   "version": "3.11.5"
  }
 },
 "nbformat": 4,
 "nbformat_minor": 5
}
