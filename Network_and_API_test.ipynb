{
 "cells": [
  {
   "cell_type": "markdown",
   "id": "d61b41be",
   "metadata": {},
   "source": [
    "# Aliyun test"
   ]
  },
  {
   "cell_type": "code",
   "execution_count": 32,
   "id": "81bbcc4a",
   "metadata": {},
   "outputs": [
    {
     "name": "stdout",
     "output_type": "stream",
     "text": [
      "{\"status_code\": 200, \"request_id\": \"cf847007-c9ee-91e3-8430-d8a456fc5af7\", \"code\": \"\", \"message\": \"\", \"output\": {\"text\": null, \"finish_reason\": null, \"choices\": [{\"finish_reason\": \"stop\", \"message\": {\"role\": \"assistant\", \"content\": \" Of course! 3 squared, or 3 × 3, is equal to 9.\", \"content_type\": \"text\"}}]}, \"usage\": {\"input_tokens\": 15, \"output_tokens\": 23}}\n",
      "{\"status_code\": 200, \"request_id\": \"c3c4fa9a-e273-9b6f-9988-2e0e9aef569b\", \"code\": \"\", \"message\": \"\", \"output\": {\"text\": null, \"finish_reason\": null, \"choices\": [{\"finish_reason\": \"stop\", \"message\": {\"role\": \"assistant\", \"content\": \"Sure! 3 cubed, or 3 × 3 × 3, is equal to 27.\", \"content_type\": \"text\"}}]}, \"usage\": {\"input_tokens\": 42, \"output_tokens\": 25}}\n"
     ]
    }
   ],
   "source": [
    "# Multi-round Dialogue Test\n",
    "\n",
    "# For prerequisites running the following sample, visit https://help.aliyun.com/document_detail/611472.html\n",
    "\n",
    "from http import HTTPStatus\n",
    "import dashscope\n",
    "api=''\n",
    "dashscope.api_key = api\n",
    "\n",
    "# For prerequisites running the following sample, visit https://help.aliyun.com/document_detail/611472.html\n",
    "\n",
    "from http import HTTPStatus\n",
    "import dashscope\n",
    "\n",
    "\n",
    "# Define a list of messages for the dialogue\n",
    "messages = [{'role': 'system', 'content': 'You are a helpful assistant.'},\n",
    "            {'role': 'user', 'content': '3的平方是几'}\n",
    "            ]\n",
    "\n",
    "# Call the DashScope API with the messages list\n",
    "response = dashscope.Generation.call(\n",
    "    model='llama2-7b-chat-v2',\n",
    "    messages=messages,\n",
    "    result_format='message',  # set the result to be \"message\" format.\n",
    ")\n",
    "\n",
    "# Check the status code of the response\n",
    "if response.status_code == HTTPStatus.OK:\n",
    "    # Print the response\n",
    "    print(response)\n",
    "    # append result to messages.\n",
    "    messages.append({'role': response.output.choices[0]['message']['role'],\n",
    "                     'content': response.output.choices[0]['message']['content']})\n",
    "else:\n",
    "    # Print the request ID, status code, error code, and error message\n",
    "    print(f'Request id: {response.request_id}, Status code: {response.status_code}, Error code: {response.code}, Error message: {response.message}')\n",
    "\n",
    "messages.append({'role': 'user', 'content': '立方呢'})\n",
    "# make second round call\n",
    "response = dashscope.Generation.call(\n",
    "    model='llama2-7b-chat-v2',\n",
    "    messages=messages,\n",
    "    result_format='message',  # set the result to be \"message\" format.\n",
    ")\n",
    "if response.status_code == HTTPStatus.OK:\n",
    "    # Print the response\n",
    "    print(response)\n",
    "else:\n",
    "    # Print the request ID, status code, error code, and error message\n",
    "    print(f'Request id: {response.request_id}, Status code: {response.status_code}, Error code: {response.code}, Error message: {response.message}')\n",
    "\n"
   ]
  },
  {
   "cell_type": "code",
   "execution_count": null,
   "id": "3044033d",
   "metadata": {},
   "outputs": [],
   "source": [
    "                      "
   ]
  }
 ],
 "metadata": {
  "kernelspec": {
   "display_name": "Python 3 (ipykernel)",
   "language": "python",
   "name": "python3"
  },
  "language_info": {
   "codemirror_mode": {
    "name": "ipython",
    "version": 3
   },
   "file_extension": ".py",
   "mimetype": "text/x-python",
   "name": "python",
   "nbconvert_exporter": "python",
   "pygments_lexer": "ipython3",
   "version": "3.11.5"
  }
 },
 "nbformat": 4,
 "nbformat_minor": 5
}
